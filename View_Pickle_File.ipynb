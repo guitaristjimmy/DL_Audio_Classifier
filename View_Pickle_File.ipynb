{
 "cells": [
  {
   "cell_type": "code",
   "execution_count": 8,
   "metadata": {},
   "outputs": [],
   "source": [
    "from train import Train\n",
    "import numpy as np"
   ]
  },
  {
   "cell_type": "code",
   "execution_count": 90,
   "metadata": {},
   "outputs": [],
   "source": [
    "train = Train()\n",
    "data = train.read_data('./dataset/train_prepared/', 128)"
   ]
  },
  {
   "cell_type": "code",
   "execution_count": 6,
   "metadata": {},
   "outputs": [
    {
     "data": {
      "text/plain": [
       "Index(['n_audio', 'sCentroid', 'sContrast', 'stft', 'mel_spectrogram', 'mfcc',\n",
       "       'c'],\n",
       "      dtype='object')"
      ]
     },
     "execution_count": 6,
     "metadata": {},
     "output_type": "execute_result"
    }
   ],
   "source": [
    "data.columns"
   ]
  },
  {
   "cell_type": "code",
   "execution_count": 43,
   "metadata": {},
   "outputs": [],
   "source": [
    "n_audio = np.array([np.array(z).T for z in [[y] for y in [x for x in data['n_audio'].values]]])\n",
    "sCentroid = np.array([np.array(z).T for z in [[y] for y in [x for x in data['sCentroid'].values]]])\n",
    "sContrast = np.array([np.array(z).T for z in [[y] for y in [x for x in data['sContrast'].values]]])\n",
    "stft = np.array([np.array(z).T for z in [[y] for y in [x for x in data['stft'].values]]])\n",
    "mel_spectrogram = np.array([np.array(z).T for z in [[y] for y in [x for x in data['mel_spectrogram'].values]]])\n",
    "mfcc = np.array([np.array(z).T for z in [[y] for y in [x for x in data['mfcc'].values]]])"
   ]
  },
  {
   "cell_type": "code",
   "execution_count": 24,
   "metadata": {},
   "outputs": [
    {
     "data": {
      "text/plain": [
       "(3840, 16000, 1)"
      ]
     },
     "execution_count": 24,
     "metadata": {},
     "output_type": "execute_result"
    }
   ],
   "source": [
    "n_audio.shape"
   ]
  },
  {
   "cell_type": "code",
   "execution_count": 25,
   "metadata": {},
   "outputs": [
    {
     "data": {
      "text/plain": [
       "(3840, 32, 1, 1)"
      ]
     },
     "execution_count": 25,
     "metadata": {},
     "output_type": "execute_result"
    }
   ],
   "source": [
    "sCentroid.shape"
   ]
  },
  {
   "cell_type": "code",
   "execution_count": 26,
   "metadata": {},
   "outputs": [
    {
     "data": {
      "text/plain": [
       "(3840, 32, 7, 1)"
      ]
     },
     "execution_count": 26,
     "metadata": {},
     "output_type": "execute_result"
    }
   ],
   "source": [
    "sContrast.shape"
   ]
  },
  {
   "cell_type": "code",
   "execution_count": 27,
   "metadata": {},
   "outputs": [
    {
     "data": {
      "text/plain": [
       "(3840, 126, 257, 1)"
      ]
     },
     "execution_count": 27,
     "metadata": {},
     "output_type": "execute_result"
    }
   ],
   "source": [
    "stft.shape"
   ]
  },
  {
   "cell_type": "code",
   "execution_count": 28,
   "metadata": {},
   "outputs": [
    {
     "data": {
      "text/plain": [
       "(3840, 32, 128, 1)"
      ]
     },
     "execution_count": 28,
     "metadata": {},
     "output_type": "execute_result"
    }
   ],
   "source": [
    "mel_spectrogram.shape"
   ]
  },
  {
   "cell_type": "code",
   "execution_count": 56,
   "metadata": {},
   "outputs": [
    {
     "data": {
      "text/plain": [
       "(3840, 32, 16, 1)"
      ]
     },
     "execution_count": 56,
     "metadata": {},
     "output_type": "execute_result"
    }
   ],
   "source": [
    "mfcc.shape"
   ]
  },
  {
   "cell_type": "code",
   "execution_count": 97,
   "metadata": {},
   "outputs": [
    {
     "data": {
      "text/plain": [
       "(3840, 32382, 1)"
      ]
     },
     "execution_count": 97,
     "metadata": {},
     "output_type": "execute_result"
    }
   ],
   "source": [
    "na = []\n",
    "for i in n_audio:\n",
    "    x = i.flatten()\n",
    "    na.append(np.array([list(list(x)+[0]*(32382-len(x)))]).T)\n",
    "na = np.array(na)\n",
    "na.shape"
   ]
  },
  {
   "cell_type": "code",
   "execution_count": 79,
   "metadata": {},
   "outputs": [
    {
     "data": {
      "text/plain": [
       "(3840, 32382, 1)"
      ]
     },
     "execution_count": 79,
     "metadata": {},
     "output_type": "execute_result"
    }
   ],
   "source": [
    "sCen = []\n",
    "for i in sCentroid:\n",
    "    x = i.flatten()\n",
    "    sCen.append(np.array([list(list(x) + [0]*(32382-len(x)))]).T)\n",
    "sCen = np.array(sCen)\n",
    "sCen.shape"
   ]
  },
  {
   "cell_type": "code",
   "execution_count": 78,
   "metadata": {},
   "outputs": [
    {
     "data": {
      "text/plain": [
       "(3840, 32382, 1)"
      ]
     },
     "execution_count": 78,
     "metadata": {},
     "output_type": "execute_result"
    }
   ],
   "source": [
    "sCon = []\n",
    "for i in sContrast:\n",
    "    x = i.flatten()\n",
    "    sCon.append(np.array([list(list(x)+ [0]*(32382-len(x)))]).T)\n",
    "sCon = np.array(sCon)\n",
    "sCon.shape"
   ]
  },
  {
   "cell_type": "code",
   "execution_count": 72,
   "metadata": {},
   "outputs": [
    {
     "data": {
      "text/plain": [
       "(3840, 32382, 1)"
      ]
     },
     "execution_count": 72,
     "metadata": {},
     "output_type": "execute_result"
    }
   ],
   "source": [
    "st = []\n",
    "for i in stft:\n",
    "    x = i.flatten()\n",
    "    st.append(np.array([list(x)]).T)\n",
    "st = np.array(st)\n",
    "st.shape"
   ]
  },
  {
   "cell_type": "code",
   "execution_count": 75,
   "metadata": {},
   "outputs": [
    {
     "data": {
      "text/plain": [
       "(3840, 32382, 1)"
      ]
     },
     "execution_count": 75,
     "metadata": {},
     "output_type": "execute_result"
    }
   ],
   "source": [
    "mel = []\n",
    "for i in mel_spectrogram:\n",
    "    x = i.flatten()\n",
    "    mel.append(np.array([list(list(x)+ [0]*(32382-len(x)))]).T)\n",
    "mel = np.array(mel)\n",
    "mel.shape"
   ]
  },
  {
   "cell_type": "code",
   "execution_count": 73,
   "metadata": {},
   "outputs": [
    {
     "data": {
      "text/plain": [
       "(3840, 32382, 1)"
      ]
     },
     "execution_count": 73,
     "metadata": {},
     "output_type": "execute_result"
    }
   ],
   "source": [
    "m = []\n",
    "for i in mfcc:\n",
    "    x = i.flatten()\n",
    "    m.append(np.array([list(list(x) + [0]*(32382-len(x)))]).T)\n",
    "m = np.array(m)\n",
    "m.shape"
   ]
  },
  {
   "cell_type": "code",
   "execution_count": 92,
   "metadata": {},
   "outputs": [
    {
     "data": {
      "text/plain": [
       "array([[[[-0.21312601, -0.21322411, -0.21297886, -0.21297886,\n",
       "          -0.21332222, -0.21322411]],\n",
       "\n",
       "        [[-0.21288076, -0.21312601, -0.21342032, -0.21337127,\n",
       "          -0.21312601, -0.21283171]],\n",
       "\n",
       "        [[-0.21307696, -0.21371462, -0.21361652, -0.21302791,\n",
       "          -0.21297886, -0.21322411]],\n",
       "\n",
       "        ...,\n",
       "\n",
       "        [[ 0.        ,  0.        ,  0.        ,  0.        ,\n",
       "           0.        ,  0.        ]],\n",
       "\n",
       "        [[ 0.        ,  0.        ,  0.        ,  0.        ,\n",
       "           0.        ,  0.        ]],\n",
       "\n",
       "        [[ 0.        ,  0.        ,  0.        ,  0.        ,\n",
       "           0.        ,  0.        ]]],\n",
       "\n",
       "\n",
       "       [[[-0.06361492, -0.06692604, -0.06651215, -0.06369769,\n",
       "          -0.06452547, -0.0659327 ]],\n",
       "\n",
       "        [[-0.06551881, -0.0617938 , -0.06427714, -0.06386325,\n",
       "          -0.06237325, -0.06237325]],\n",
       "\n",
       "        [[-0.0617938 , -0.06626381, -0.06419436, -0.0603038 ,\n",
       "          -0.06113158, -0.06262158]],\n",
       "\n",
       "        ...,\n",
       "\n",
       "        [[ 0.        ,  0.        ,  0.        ,  0.        ,\n",
       "           0.        ,  0.        ]],\n",
       "\n",
       "        [[ 0.        ,  0.        ,  0.        ,  0.        ,\n",
       "           0.        ,  0.        ]],\n",
       "\n",
       "        [[ 0.        ,  0.        ,  0.        ,  0.        ,\n",
       "           0.        ,  0.        ]]],\n",
       "\n",
       "\n",
       "       [[[-0.10828522, -0.10625683, -0.10438446, -0.10984553,\n",
       "          -0.10719301, -0.11218599]],\n",
       "\n",
       "        [[-0.11452645, -0.11437042, -0.11296614, -0.11359026,\n",
       "          -0.11437042, -0.10391637]],\n",
       "\n",
       "        [[-0.10547667, -0.10656889, -0.10048369, -0.10157591,\n",
       "          -0.11000156, -0.11967546]],\n",
       "\n",
       "        ...,\n",
       "\n",
       "        [[ 0.        ,  0.        ,  0.        ,  0.        ,\n",
       "           0.        ,  0.        ]],\n",
       "\n",
       "        [[ 0.        ,  0.        ,  0.        ,  0.        ,\n",
       "           0.        ,  0.        ]],\n",
       "\n",
       "        [[ 0.        ,  0.        ,  0.        ,  0.        ,\n",
       "           0.        ,  0.        ]]],\n",
       "\n",
       "\n",
       "       ...,\n",
       "\n",
       "\n",
       "       [[[-0.26857504, -0.28246685, -0.25363081, -0.29299095,\n",
       "          -0.29383288, -0.27531046]],\n",
       "\n",
       "        [[-0.28730794, -0.26878552, -0.28688697, -0.28372974,\n",
       "          -0.28478215, -0.27404757]],\n",
       "\n",
       "        [[-0.26752263, -0.26583877, -0.25889286, -0.26625973,\n",
       "          -0.25973479, -0.29530625]],\n",
       "\n",
       "        ...,\n",
       "\n",
       "        [[ 0.        ,  0.        ,  0.        ,  0.        ,\n",
       "           0.        ,  0.        ]],\n",
       "\n",
       "        [[ 0.        ,  0.        ,  0.        ,  0.        ,\n",
       "           0.        ,  0.        ]],\n",
       "\n",
       "        [[ 0.        ,  0.        ,  0.        ,  0.        ,\n",
       "           0.        ,  0.        ]]],\n",
       "\n",
       "\n",
       "       [[[ 0.08690087,  0.11714787,  0.08405632,  0.10918314,\n",
       "           0.10102878,  0.1084246 ]],\n",
       "\n",
       "        [[ 0.11392405,  0.11316551,  0.11894941,  0.11250178,\n",
       "           0.1188546 ,  0.12179396]],\n",
       "\n",
       "        [[ 0.10880387,  0.1271986 ,  0.12321623,  0.11733751,\n",
       "           0.13393069,  0.12520741]],\n",
       "\n",
       "        ...,\n",
       "\n",
       "        [[ 0.        ,  0.        ,  0.        ,  0.        ,\n",
       "           0.        ,  0.        ]],\n",
       "\n",
       "        [[ 0.        ,  0.        ,  0.        ,  0.        ,\n",
       "           0.        ,  0.        ]],\n",
       "\n",
       "        [[ 0.        ,  0.        ,  0.        ,  0.        ,\n",
       "           0.        ,  0.        ]]],\n",
       "\n",
       "\n",
       "       [[[ 0.12013898,  0.14205533,  0.14944986,  0.1588044 ,\n",
       "           0.1326117 ,  0.15853713]],\n",
       "\n",
       "        [[ 0.1374226 ,  0.16129894,  0.17911711,  0.09795537,\n",
       "           0.18481892,  0.11835717]],\n",
       "\n",
       "        [[ 0.09982627,  0.17564257,  0.07568266,  0.11835717,\n",
       "           0.13287897,  0.08530447]],\n",
       "\n",
       "        ...,\n",
       "\n",
       "        [[ 0.        ,  0.        ,  0.        ,  0.        ,\n",
       "           0.        ,  0.        ]],\n",
       "\n",
       "        [[ 0.        ,  0.        ,  0.        ,  0.        ,\n",
       "           0.        ,  0.        ]],\n",
       "\n",
       "        [[ 0.        ,  0.        ,  0.        ,  0.        ,\n",
       "           0.        ,  0.        ]]]])"
      ]
     },
     "execution_count": 92,
     "metadata": {},
     "output_type": "execute_result"
    }
   ],
   "source": [
    "d = []\n",
    "for i in range(0, len(data.index)):\n",
    "    d.append([na[i], sCen[i],sCon[i], st[i], mel[i], m[i]])\n",
    "d = np.array(d)"
   ]
  },
  {
   "cell_type": "code",
   "execution_count": 93,
   "metadata": {},
   "outputs": [
    {
     "data": {
      "text/plain": [
       "(3840, 6, 32382, 1)"
      ]
     },
     "execution_count": 93,
     "metadata": {},
     "output_type": "execute_result"
    }
   ],
   "source": [
    "d.shape"
   ]
  },
  {
   "cell_type": "code",
   "execution_count": 98,
   "metadata": {},
   "outputs": [],
   "source": [
    "d = d.reshape((3840, 32382,6))"
   ]
  },
  {
   "cell_type": "code",
   "execution_count": 99,
   "metadata": {},
   "outputs": [
    {
     "data": {
      "text/plain": [
       "(3840, 32382, 6)"
      ]
     },
     "execution_count": 99,
     "metadata": {},
     "output_type": "execute_result"
    }
   ],
   "source": [
    "d.shape"
   ]
  },
  {
   "cell_type": "code",
   "execution_count": 100,
   "metadata": {},
   "outputs": [
    {
     "data": {
      "text/plain": [
       "array([[-0.21312601, -0.21322411, -0.21297886, -0.21297886, -0.21332222,\n",
       "        -0.21322411],\n",
       "       [-0.21288076, -0.21312601, -0.21342032, -0.21337127, -0.21312601,\n",
       "        -0.21283171],\n",
       "       [-0.21307696, -0.21371462, -0.21361652, -0.21302791, -0.21297886,\n",
       "        -0.21322411],\n",
       "       ...,\n",
       "       [ 0.        ,  0.        ,  0.        ,  0.        ,  0.        ,\n",
       "         0.        ],\n",
       "       [ 0.        ,  0.        ,  0.        ,  0.        ,  0.        ,\n",
       "         0.        ],\n",
       "       [ 0.        ,  0.        ,  0.        ,  0.        ,  0.        ,\n",
       "         0.        ]])"
      ]
     },
     "execution_count": 100,
     "metadata": {},
     "output_type": "execute_result"
    }
   ],
   "source": [
    "d[0]"
   ]
  },
  {
   "cell_type": "code",
   "execution_count": null,
   "metadata": {},
   "outputs": [],
   "source": []
  }
 ],
 "metadata": {
  "kernelspec": {
   "display_name": "python3.7",
   "language": "python",
   "name": "test_pyqt"
  },
  "language_info": {
   "codemirror_mode": {
    "name": "ipython",
    "version": 3
   },
   "file_extension": ".py",
   "mimetype": "text/x-python",
   "name": "python",
   "nbconvert_exporter": "python",
   "pygments_lexer": "ipython3",
   "version": "3.7.6"
  }
 },
 "nbformat": 4,
 "nbformat_minor": 2
}
